{
 "cells": [
  {
   "cell_type": "markdown",
   "metadata": {},
   "source": [
    "# Baseline\n",
    "We trained a simple, one layer RNN featuring LSTM units and a pretrained word embedding layer. The model was trained on 5 epochs and had the following metrics:\n",
    "\n",
    "**Train average AUROC:** 0.984\n",
    "\n",
    "**Validation average AUROC:** 0.98\n",
    "\n",
    "**Test average AUROC:** 0.968"
   ]
  },
  {
   "cell_type": "code",
   "execution_count": 1,
   "metadata": {},
   "outputs": [],
   "source": [
    "import json\n",
    "import csv\n",
    "import random\n",
    "import numpy as np\n",
    "import pandas as pd\n",
    "import matplotlib.pyplot as plt\n",
    "import seaborn as sns\n",
    "\n",
    "# tf-related\n",
    "import tensorflow as tf\n",
    "from tensorflow.keras.preprocessing.text import Tokenizer\n",
    "from tensorflow.keras.preprocessing.sequence import pad_sequences\n",
    "from tensorflow.keras.utils import to_categorical\n",
    "from tensorflow.keras import regularizers\n",
    "from tensorflow.keras.layers import Embedding\n",
    "from tensorflow.keras.initializers import Constant"
   ]
  },
  {
   "cell_type": "code",
   "execution_count": 2,
   "metadata": {},
   "outputs": [],
   "source": [
    "# execution hyperparameters\n",
    "MAX_WORDS = 20000\n",
    "VALIDATION_SPLIT = .2\n",
    "EMBEDDING_DIM = 100\n",
    "glove_path = \"../glove.6B/glove.6B.100d.txt\" # file name specifies dimension of embedding space\n",
    "embedding_dim = 100\n",
    "max_length = 16\n",
    "trunc_type='post'\n",
    "padding_type='post'\n",
    "oov_tok = \"<OOV>\"\n",
    "training_size=160000\n",
    "test_portion=.1\n",
    "corpus = []"
   ]
  },
  {
   "cell_type": "markdown",
   "metadata": {},
   "source": [
    "## Tokenization and sequence formation"
   ]
  },
  {
   "cell_type": "code",
   "execution_count": 3,
   "metadata": {},
   "outputs": [],
   "source": [
    "# obtain training 'labels' and 'sentences'\n",
    "train = pd.read_csv(\"../data/train.csv\")\n",
    "labels = train[[\"toxic\", \"severe_toxic\", \"obscene\", \"threat\", \"insult\", \"identity_hate\"]].values.tolist()\n",
    "labels = np.array(labels)\n",
    "sentences = train[\"comment_text\"].values.tolist()"
   ]
  },
  {
   "cell_type": "code",
   "execution_count": 4,
   "metadata": {},
   "outputs": [
    {
     "name": "stdout",
     "output_type": "stream",
     "text": [
      "Words in training set: 210337\n"
     ]
    }
   ],
   "source": [
    "# word tokenization\n",
    "tokenizer = Tokenizer(num_words=MAX_WORDS)\n",
    "tokenizer.fit_on_texts(sentences)\n",
    "word_index = tokenizer.word_index\n",
    "print(\"Words in training set: \"+str(len(word_index)))"
   ]
  },
  {
   "cell_type": "markdown",
   "metadata": {},
   "source": [
    "We observe that the training set actually has many more unique tokens than the number of words we will admit for computational reasons. This calls for further investigation. Let's look at the sentences' length distribution to decide on a reasonable maximum length."
   ]
  },
  {
   "cell_type": "code",
   "execution_count": 5,
   "metadata": {
    "scrolled": true
   },
   "outputs": [
    {
     "data": {
      "image/png": "[encoded data removed]",
      "text/plain": [
       "<Figure size 432x288 with 1 Axes>"
      ]
     },
     "metadata": {
      "needs_background": "light"
     },
     "output_type": "display_data"
    }
   ],
   "source": [
    "sentence_lengths = pd.Series([len(s) for s in sentences])\n",
    "sns.distplot(sentence_lengths)\n",
    "plt.title(\"Sentence length distribution\");"
   ]
  },
  {
   "cell_type": "code",
   "execution_count": 6,
   "metadata": {},
   "outputs": [
    {
     "data": {
      "text/plain": [
       "count    159571.000000\n",
       "mean        394.073221\n",
       "std         590.720282\n",
       "min           6.000000\n",
       "0%            6.000000\n",
       "10%          47.000000\n",
       "20%          78.000000\n",
       "30.0%       114.000000\n",
       "40%         155.000000\n",
       "50%         205.000000\n",
       "60.0%       274.000000\n",
       "70%         367.000000\n",
       "80%         528.000000\n",
       "90%         889.000000\n",
       "max        5000.000000\n",
       "dtype: float64"
      ]
     },
     "execution_count": 6,
     "metadata": {},
     "output_type": "execute_result"
    }
   ],
   "source": [
    "sentence_lengths.describe(percentiles=[.1*i for i in range(10)])"
   ]
  },
  {
   "cell_type": "code",
   "execution_count": 7,
   "metadata": {},
   "outputs": [],
   "source": [
    "# cutting around the 90th percentile seems reasonable given the distribution's long tail\n",
    "MAX_SEQ_LENGTH = 1000"
   ]
  },
  {
   "cell_type": "code",
   "execution_count": 8,
   "metadata": {},
   "outputs": [],
   "source": [
    "# make the sequences uniform to pass them to a network\n",
    "sequences = tokenizer.texts_to_sequences(sentences)\n",
    "padded = pad_sequences(sequences, maxlen=MAX_SEQ_LENGTH)"
   ]
  },
  {
   "cell_type": "markdown",
   "metadata": {},
   "source": [
    "## Data split"
   ]
  },
  {
   "cell_type": "code",
   "execution_count": 9,
   "metadata": {},
   "outputs": [],
   "source": [
    "# split the data into a training set and a validation set\n",
    "indices = np.arange(padded.shape[0])\n",
    "np.random.shuffle(indices)\n",
    "padded = padded[indices]\n",
    "labels = labels[indices]\n",
    "num_validation_samples = int(VALIDATION_SPLIT * padded.shape[0])\n",
    "\n",
    "x_train = padded[:-num_validation_samples]\n",
    "y_train = labels[:-num_validation_samples]\n",
    "x_val = padded[-num_validation_samples:]\n",
    "y_val = labels[-num_validation_samples:]"
   ]
  },
  {
   "cell_type": "markdown",
   "metadata": {},
   "source": [
    "## Transfer learning\n",
    "We followed [this tutorial from the Keras documentation](https://keras.io/examples/pretrained_word_embeddings/) to implement transfer learning of a pretrained GloVe embedding. The training data for the embedding consists of messages from a forum-like network termed 'netnews'."
   ]
  },
  {
   "cell_type": "code",
   "execution_count": 10,
   "metadata": {},
   "outputs": [],
   "source": [
    "# load pretrained embedding matrix (implemented as an index for memory efficiency)\n",
    "embeddings_index = {}\n",
    "with open(glove_path) as f:\n",
    "    for line in f:\n",
    "        values = line.split()\n",
    "        word = values[0]\n",
    "        coefs = np.asarray(values[1:], dtype='float32')\n",
    "        embeddings_index[word] = coefs"
   ]
  },
  {
   "cell_type": "code",
   "execution_count": 11,
   "metadata": {},
   "outputs": [],
   "source": [
    "# prepare embedding matrix\n",
    "num_words = min(MAX_WORDS, len(word_index)) + 1\n",
    "embedding_matrix = np.zeros((num_words, EMBEDDING_DIM))\n",
    "for word, i in word_index.items():\n",
    "    if i > MAX_WORDS:\n",
    "        continue\n",
    "    embedding_vector = embeddings_index.get(word)\n",
    "    if embedding_vector is not None:\n",
    "        # words not found in embedding index will be all-zeros.\n",
    "        embedding_matrix[i] = embedding_vector\n",
    "\n",
    "# load pre-trained word embeddings into an Embedding layer\n",
    "# note that we set trainable = False so as to keep the embeddings fixed\n",
    "embedding_layer = Embedding(num_words,\n",
    "                            EMBEDDING_DIM,\n",
    "                            embeddings_initializer=Constant(embedding_matrix),\n",
    "                            input_length=MAX_SEQ_LENGTH,\n",
    "                            trainable=False)"
   ]
  },
  {
   "cell_type": "markdown",
   "metadata": {},
   "source": [
    "## RNN training"
   ]
  },
  {
   "cell_type": "code",
   "execution_count": 12,
   "metadata": {},
   "outputs": [],
   "source": [
    "# Keras-ready average AUROC\n",
    "from avg_auroc import AvgAurocCallback, avg_auroc_metric\n",
    "avg_auroc_callback = AvgAurocCallback(x_train, y_train, x_val, y_val)"
   ]
  },
  {
   "cell_type": "code",
   "execution_count": 13,
   "metadata": {},
   "outputs": [
    {
     "name": "stdout",
     "output_type": "stream",
     "text": [
      "WARNING:tensorflow:From /home/jfceron/anaconda3/envs/toxic-comments/lib/python3.7/site-packages/tensorflow/python/ops/resource_variable_ops.py:435: colocate_with (from tensorflow.python.framework.ops) is deprecated and will be removed in a future version.\n",
      "Instructions for updating:\n",
      "Colocations handled automatically by placer.\n",
      "WARNING:tensorflow:From /home/jfceron/anaconda3/envs/toxic-comments/lib/python3.7/site-packages/tensorflow/python/keras/layers/core.py:143: calling dropout (from tensorflow.python.ops.nn_ops) with keep_prob is deprecated and will be removed in a future version.\n",
      "Instructions for updating:\n",
      "Please use `rate` instead of `keep_prob`. Rate should be set to `rate = 1 - keep_prob`.\n"
     ]
    }
   ],
   "source": [
    "model = tf.keras.Sequential([\n",
    "    embedding_layer,\n",
    "    tf.keras.layers.Dropout(rate=0.2),\n",
    "    tf.keras.layers.Conv1D(64, 5, activation='relu'),\n",
    "    tf.keras.layers.MaxPooling1D(pool_size=4),\n",
    "    tf.keras.layers.LSTM(64),\n",
    "    tf.keras.layers.Dense(6, activation='sigmoid')\n",
    "])"
   ]
  },
  {
   "cell_type": "code",
   "execution_count": 14,
   "metadata": {},
   "outputs": [
    {
     "name": "stdout",
     "output_type": "stream",
     "text": [
      "_________________________________________________________________\n",
      "Layer (type)                 Output Shape              Param #   \n",
      "=================================================================\n",
      "embedding (Embedding)        (None, 1000, 100)         2000100   \n",
      "_________________________________________________________________\n",
      "dropout (Dropout)            (None, 1000, 100)         0         \n",
      "_________________________________________________________________\n",
      "conv1d (Conv1D)              (None, 996, 64)           32064     \n",
      "_________________________________________________________________\n",
      "max_pooling1d (MaxPooling1D) (None, 249, 64)           0         \n",
      "_________________________________________________________________\n",
      "lstm (LSTM)                  (None, 64)                33024     \n",
      "_________________________________________________________________\n",
      "dense (Dense)                (None, 6)                 390       \n",
      "=================================================================\n",
      "Total params: 2,065,578\n",
      "Trainable params: 65,478\n",
      "Non-trainable params: 2,000,100\n",
      "_________________________________________________________________\n"
     ]
    }
   ],
   "source": [
    "model.compile(loss='binary_crossentropy', optimizer='adam')\n",
    "model.summary()"
   ]
  },
  {
   "cell_type": "code",
   "execution_count": 15,
   "metadata": {
    "scrolled": true
   },
   "outputs": [
    {
     "name": "stdout",
     "output_type": "stream",
     "text": [
      "Train on 127657 samples, validate on 31914 samples\n",
      "WARNING:tensorflow:From /home/jfceron/anaconda3/envs/toxic-comments/lib/python3.7/site-packages/tensorflow/python/ops/math_ops.py:3066: to_int32 (from tensorflow.python.ops.math_ops) is deprecated and will be removed in a future version.\n",
      "Instructions for updating:\n",
      "Use tf.cast instead.\n",
      "Epoch 1/5\n",
      "127616/127657 [============================>.] - ETA: 0s - loss: 0.0839\n",
      "Train avg_auroc: 0.967, Val avg_auroc: 0.966\n",
      "127657/127657 [==============================] - 955s 7ms/sample - loss: 0.0839 - val_loss: 0.0585\n",
      "Epoch 2/5\n",
      "127616/127657 [============================>.] - ETA: 0s - loss: 0.0591\n",
      "Train avg_auroc: 0.973, Val avg_auroc: 0.973\n",
      "127657/127657 [==============================] - 986s 8ms/sample - loss: 0.0591 - val_loss: 0.0536\n",
      "Epoch 3/5\n",
      "127616/127657 [============================>.] - ETA: 0s - loss: 0.0567\n",
      "Train avg_auroc: 0.975, Val avg_auroc: 0.974\n",
      "127657/127657 [==============================] - 984s 8ms/sample - loss: 0.0567 - val_loss: 0.0538\n",
      "Epoch 4/5\n",
      "127616/127657 [============================>.] - ETA: 0s - loss: 0.0529\n",
      "Train avg_auroc: 0.981, Val avg_auroc: 0.978\n",
      "127657/127657 [==============================] - 993s 8ms/sample - loss: 0.0529 - val_loss: 0.0502\n",
      "Epoch 5/5\n",
      "127616/127657 [============================>.] - ETA: 0s - loss: 0.0508\n",
      "Train avg_auroc: 0.984, Val avg_auroc: 0.980\n",
      "127657/127657 [==============================] - 997s 8ms/sample - loss: 0.0508 - val_loss: 0.0492\n"
     ]
    }
   ],
   "source": [
    "num_epochs = 5\n",
    "history = model.fit(x_train, y_train, epochs=num_epochs, verbose=1, batch_size=128, validation_data=(x_val, y_val),\n",
    "                   callbacks=[avg_auroc_callback])"
   ]
  },
  {
   "cell_type": "markdown",
   "metadata": {},
   "source": [
    "## Make a submission"
   ]
  },
  {
   "cell_type": "code",
   "execution_count": 28,
   "metadata": {},
   "outputs": [],
   "source": [
    "test = pd.read_csv(\"data/test.csv\")\n",
    "test_sentences = test.pop(\"comment_text\").values.tolist()"
   ]
  },
  {
   "cell_type": "code",
   "execution_count": 19,
   "metadata": {},
   "outputs": [],
   "source": [
    "# make the sequences uniform to pass them to a network\n",
    "test_sequences = tokenizer.texts_to_sequences(test_sentences)\n",
    "test_padded = pad_sequences(test_sequences, maxlen=MAX_SEQ_LENGTH)"
   ]
  },
  {
   "cell_type": "code",
   "execution_count": 20,
   "metadata": {},
   "outputs": [],
   "source": [
    "# make predictions\n",
    "y_test_hat = model.predict(test_padded)"
   ]
  },
  {
   "cell_type": "code",
   "execution_count": 33,
   "metadata": {},
   "outputs": [],
   "source": [
    "# write submission file\n",
    "y_test_hat = pd.DataFrame(data=y_test_hat, columns=[\"toxic\", \"severe_toxic\", \"obscene\", \"threat\", \"insult\", \"identity_hate\"])\n",
    "test = test.join(y_test_hat)\n",
    "test.to_csv(\"../submissions/baseline_submission.csv\", index=False)"
   ]
  },
  {
   "cell_type": "markdown",
   "metadata": {},
   "source": [
    "## Store results\n",
    "We'll store the final `History` object to make graphs and the model weights to further train this model, as the small difference between training and validation performance tells us it hasn't reached its full potential."
   ]
  },
  {
   "cell_type": "code",
   "execution_count": 39,
   "metadata": {},
   "outputs": [],
   "source": [
    "import pickle"
   ]
  },
  {
   "cell_type": "code",
   "execution_count": 38,
   "metadata": {},
   "outputs": [],
   "source": [
    "hist_file = open(\"../models/baseline_history\", \"wb\")\n",
    "pickle.dump(history.history, hist_file)\n",
    "hist_file.close()"
   ]
  },
  {
   "cell_type": "code",
   "execution_count": 40,
   "metadata": {},
   "outputs": [],
   "source": [
    "model_json = model.to_json()\n",
    "with open(\"../models/baseline_model.json\", 'w') as json_file:\n",
    "    json_file.write(model_json)\n",
    "model.save_weights(\"../models/baseline_weights.h5\")"
   ]
  }
 ],
 "metadata": {
  "kernelspec": {
   "display_name": "toxic-comments",
   "language": "python",
   "name": "toxic-comments"
  },
  "language_info": {
   "codemirror_mode": {
    "name": "ipython",
    "version": 3
   },
   "file_extension": ".py",
   "mimetype": "text/x-python",
   "name": "python",
   "nbconvert_exporter": "python",
   "pygments_lexer": "ipython3",
   "version": "3.7.3"
  }
 },
 "nbformat": 4,
 "nbformat_minor": 2
}
